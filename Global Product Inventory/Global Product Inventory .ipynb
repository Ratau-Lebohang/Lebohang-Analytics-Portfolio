{
 "cells": [
  {
   "cell_type": "markdown",
   "id": "1aac4822-e57f-4491-8285-cc46ddb16db3",
   "metadata": {},
   "source": [
    "# Global Product Inventory Exploratory Data Analysis\n",
    "Project Goal: Uncovers trends in product inventory, pricing, demand indicators, and potential inefficiencies in stock management. "
   ]
  },
  {
   "cell_type": "markdown",
   "id": "ac6971b3-3987-4145-b25e-af1ecf852006",
   "metadata": {},
   "source": [
    "# Import Libraries"
   ]
  },
  {
   "cell_type": "code",
   "execution_count": 3,
   "id": "34691ede-0930-4132-bc83-a568f599f654",
   "metadata": {},
   "outputs": [],
   "source": [
    "import pandas as pd\n",
    "import numpy as np\n",
    "import matplotlib.pyplot as plt\n",
    "import seaborn as sns\n",
    "from datetime import datetime "
   ]
  },
  {
   "cell_type": "code",
   "execution_count": null,
   "id": "dea9df38-08b9-4f6a-89a7-988264582a98",
   "metadata": {},
   "outputs": [],
   "source": []
  },
  {
   "cell_type": "markdown",
   "id": "14a4af26-9e58-44dc-9a54-9bc284bb4283",
   "metadata": {},
   "source": [
    "# Data Source\n",
    "The dataset used for this analysis is the \"Global Product Inventory\" available on Kaggle:\n",
    "\n",
    "[https://www.kaggle.com/datasets/keyushnisar/global-product-inventory-dataset-2025](https://www.kaggle.com/datasets/keyushnisar/global-product-inventory-dataset-2025)"
   ]
  },
  {
   "cell_type": "code",
   "execution_count": null,
   "id": "419b6a32-8e24-4a45-a4c4-30ab660d2493",
   "metadata": {},
   "outputs": [],
   "source": []
  },
  {
   "cell_type": "markdown",
   "id": "0c78b64a-1c8f-4d8d-8ad3-58c59754f3ef",
   "metadata": {},
   "source": [
    "# Load Dataset\n",
    "Data Cleaning & Preprocessing"
   ]
  },
  {
   "cell_type": "code",
   "execution_count": 14,
   "id": "50e64c69-5d61-4464-8add-6a3d18041da3",
   "metadata": {},
   "outputs": [],
   "source": [
    " df = pd.read_csv(\"Global_Product_Inventory.csv\", sep=';')"
   ]
  },
  {
   "cell_type": "code",
   "execution_count": null,
   "id": "15d0d21c-7e74-4820-bdab-d456c0fd9f6e",
   "metadata": {},
   "outputs": [],
   "source": []
  },
  {
   "cell_type": "code",
   "execution_count": 31,
   "id": "0dade7c5-b909-4428-a1a6-91a40370a9f4",
   "metadata": {},
   "outputs": [
    {
     "name": "stdout",
     "output_type": "stream",
     "text": [
      "<class 'pandas.core.frame.DataFrame'>\n",
      "RangeIndex: 10000 entries, 0 to 9999\n",
      "Data columns (total 11 columns):\n",
      " #   Column                 Non-Null Count  Dtype         \n",
      "---  ------                 --------------  -----         \n",
      " 0   Product ID             10000 non-null  object        \n",
      " 1   Product Name           10000 non-null  object        \n",
      " 2   Product Category       10000 non-null  object        \n",
      " 3   Price                  10000 non-null  float64       \n",
      " 4   Stock Quantity         10000 non-null  int64         \n",
      " 5   Warranty Period        10000 non-null  int64         \n",
      " 6   Manufacturing Date     10000 non-null  datetime64[ns]\n",
      " 7   Expiration Date        10000 non-null  datetime64[ns]\n",
      " 8   Product Tags           10000 non-null  object        \n",
      " 9   Color/Size Variations  10000 non-null  object        \n",
      " 10  Product Ratings        10000 non-null  int64         \n",
      "dtypes: datetime64[ns](2), float64(1), int64(3), object(5)\n",
      "memory usage: 859.5+ KB\n"
     ]
    }
   ],
   "source": [
    "df.info() "
   ]
  },
  {
   "cell_type": "code",
   "execution_count": 27,
   "id": "068e6885-891f-4dd6-a0a5-d5db790e7b58",
   "metadata": {},
   "outputs": [],
   "source": [
    "df['Manufacturing Date'] = pd.to_datetime(df['Manufacturing Date'], errors='coerce')"
   ]
  },
  {
   "cell_type": "code",
   "execution_count": 29,
   "id": "c5f21511-7150-4042-8017-2fd7ad55e1b0",
   "metadata": {},
   "outputs": [],
   "source": [
    "df['Expiration Date'] = pd.to_datetime(df['Expiration Date'], errors='coerce') "
   ]
  },
  {
   "cell_type": "code",
   "execution_count": null,
   "id": "2cdd8fd2-3ed0-4068-8c20-8edef8e9fde3",
   "metadata": {},
   "outputs": [],
   "source": []
  },
  {
   "cell_type": "code",
   "execution_count": 33,
   "id": "52a52709-d0a9-4671-b759-92b96b768050",
   "metadata": {},
   "outputs": [
    {
     "data": {
      "text/html": [
       "<div>\n",
       "<style scoped>\n",
       "    .dataframe tbody tr th:only-of-type {\n",
       "        vertical-align: middle;\n",
       "    }\n",
       "\n",
       "    .dataframe tbody tr th {\n",
       "        vertical-align: top;\n",
       "    }\n",
       "\n",
       "    .dataframe thead th {\n",
       "        text-align: right;\n",
       "    }\n",
       "</style>\n",
       "<table border=\"1\" class=\"dataframe\">\n",
       "  <thead>\n",
       "    <tr style=\"text-align: right;\">\n",
       "      <th></th>\n",
       "      <th>Product ID</th>\n",
       "      <th>Product Name</th>\n",
       "      <th>Product Category</th>\n",
       "      <th>Price</th>\n",
       "      <th>Stock Quantity</th>\n",
       "      <th>Warranty Period</th>\n",
       "      <th>Manufacturing Date</th>\n",
       "      <th>Expiration Date</th>\n",
       "      <th>Product Tags</th>\n",
       "      <th>Color/Size Variations</th>\n",
       "      <th>Product Ratings</th>\n",
       "    </tr>\n",
       "  </thead>\n",
       "  <tbody>\n",
       "    <tr>\n",
       "      <th>0</th>\n",
       "      <td>93TGNAY7</td>\n",
       "      <td>Laptop</td>\n",
       "      <td>Home Appliances</td>\n",
       "      <td>253.17</td>\n",
       "      <td>3</td>\n",
       "      <td>2</td>\n",
       "      <td>2025-01-01</td>\n",
       "      <td>2028-01-01</td>\n",
       "      <td>VNU,NZ6</td>\n",
       "      <td>Green/Large</td>\n",
       "      <td>2</td>\n",
       "    </tr>\n",
       "    <tr>\n",
       "      <th>1</th>\n",
       "      <td>TYYZ5AV7</td>\n",
       "      <td>Smartphone</td>\n",
       "      <td>Clothing</td>\n",
       "      <td>214.37</td>\n",
       "      <td>92</td>\n",
       "      <td>2</td>\n",
       "      <td>2025-03-15</td>\n",
       "      <td>2027-01-01</td>\n",
       "      <td>ZJA,0D3</td>\n",
       "      <td>Red/Small</td>\n",
       "      <td>2</td>\n",
       "    </tr>\n",
       "    <tr>\n",
       "      <th>2</th>\n",
       "      <td>5C94FGTQ</td>\n",
       "      <td>Headphones</td>\n",
       "      <td>Clothing</td>\n",
       "      <td>475.29</td>\n",
       "      <td>19</td>\n",
       "      <td>2</td>\n",
       "      <td>2025-03-15</td>\n",
       "      <td>2028-01-01</td>\n",
       "      <td>ZNG,MAP</td>\n",
       "      <td>Red/Small</td>\n",
       "      <td>1</td>\n",
       "    </tr>\n",
       "    <tr>\n",
       "      <th>3</th>\n",
       "      <td>XBHKYPQB</td>\n",
       "      <td>Monitor</td>\n",
       "      <td>Clothing</td>\n",
       "      <td>403.33</td>\n",
       "      <td>40</td>\n",
       "      <td>1</td>\n",
       "      <td>2025-01-01</td>\n",
       "      <td>2028-01-01</td>\n",
       "      <td>RPP,M40</td>\n",
       "      <td>Green/Large</td>\n",
       "      <td>1</td>\n",
       "    </tr>\n",
       "    <tr>\n",
       "      <th>4</th>\n",
       "      <td>728GCZFU</td>\n",
       "      <td>Laptop</td>\n",
       "      <td>Home Appliances</td>\n",
       "      <td>229.81</td>\n",
       "      <td>32</td>\n",
       "      <td>2</td>\n",
       "      <td>2025-07-30</td>\n",
       "      <td>2028-01-01</td>\n",
       "      <td>R8U,X46</td>\n",
       "      <td>Blue/Medium</td>\n",
       "      <td>4</td>\n",
       "    </tr>\n",
       "    <tr>\n",
       "      <th>...</th>\n",
       "      <td>...</td>\n",
       "      <td>...</td>\n",
       "      <td>...</td>\n",
       "      <td>...</td>\n",
       "      <td>...</td>\n",
       "      <td>...</td>\n",
       "      <td>...</td>\n",
       "      <td>...</td>\n",
       "      <td>...</td>\n",
       "      <td>...</td>\n",
       "      <td>...</td>\n",
       "    </tr>\n",
       "    <tr>\n",
       "      <th>9995</th>\n",
       "      <td>J29B6RDI</td>\n",
       "      <td>Headphones</td>\n",
       "      <td>Clothing</td>\n",
       "      <td>21.48</td>\n",
       "      <td>91</td>\n",
       "      <td>3</td>\n",
       "      <td>2025-03-15</td>\n",
       "      <td>2028-01-01</td>\n",
       "      <td>M81,8WN</td>\n",
       "      <td>Blue/Medium</td>\n",
       "      <td>1</td>\n",
       "    </tr>\n",
       "    <tr>\n",
       "      <th>9996</th>\n",
       "      <td>L1HL7437</td>\n",
       "      <td>Laptop</td>\n",
       "      <td>Clothing</td>\n",
       "      <td>403.92</td>\n",
       "      <td>19</td>\n",
       "      <td>2</td>\n",
       "      <td>2025-01-01</td>\n",
       "      <td>2026-01-01</td>\n",
       "      <td>0UM,L4B</td>\n",
       "      <td>Red/Small</td>\n",
       "      <td>4</td>\n",
       "    </tr>\n",
       "    <tr>\n",
       "      <th>9997</th>\n",
       "      <td>FD57S4E1</td>\n",
       "      <td>Laptop</td>\n",
       "      <td>Home Appliances</td>\n",
       "      <td>484.46</td>\n",
       "      <td>13</td>\n",
       "      <td>2</td>\n",
       "      <td>2025-01-01</td>\n",
       "      <td>2026-01-01</td>\n",
       "      <td>GO4,EZE</td>\n",
       "      <td>Red/Small</td>\n",
       "      <td>1</td>\n",
       "    </tr>\n",
       "    <tr>\n",
       "      <th>9998</th>\n",
       "      <td>RPYLOB1M</td>\n",
       "      <td>Headphones</td>\n",
       "      <td>Clothing</td>\n",
       "      <td>411.63</td>\n",
       "      <td>79</td>\n",
       "      <td>1</td>\n",
       "      <td>2025-07-30</td>\n",
       "      <td>2028-01-01</td>\n",
       "      <td>0QB,U55</td>\n",
       "      <td>Red/Small</td>\n",
       "      <td>1</td>\n",
       "    </tr>\n",
       "    <tr>\n",
       "      <th>9999</th>\n",
       "      <td>3JWTGTOM</td>\n",
       "      <td>Laptop</td>\n",
       "      <td>Clothing</td>\n",
       "      <td>74.38</td>\n",
       "      <td>81</td>\n",
       "      <td>1</td>\n",
       "      <td>2025-01-01</td>\n",
       "      <td>2027-01-01</td>\n",
       "      <td>C5R,TZN</td>\n",
       "      <td>Blue/Medium</td>\n",
       "      <td>1</td>\n",
       "    </tr>\n",
       "  </tbody>\n",
       "</table>\n",
       "<p>10000 rows × 11 columns</p>\n",
       "</div>"
      ],
      "text/plain": [
       "     Product ID Product Name Product Category   Price  Stock Quantity  \\\n",
       "0      93TGNAY7       Laptop  Home Appliances  253.17               3   \n",
       "1      TYYZ5AV7   Smartphone         Clothing  214.37              92   \n",
       "2      5C94FGTQ   Headphones         Clothing  475.29              19   \n",
       "3      XBHKYPQB      Monitor         Clothing  403.33              40   \n",
       "4      728GCZFU       Laptop  Home Appliances  229.81              32   \n",
       "...         ...          ...              ...     ...             ...   \n",
       "9995   J29B6RDI   Headphones         Clothing   21.48              91   \n",
       "9996   L1HL7437       Laptop         Clothing  403.92              19   \n",
       "9997   FD57S4E1       Laptop  Home Appliances  484.46              13   \n",
       "9998   RPYLOB1M   Headphones         Clothing  411.63              79   \n",
       "9999   3JWTGTOM       Laptop         Clothing   74.38              81   \n",
       "\n",
       "      Warranty Period Manufacturing Date Expiration Date Product Tags  \\\n",
       "0                   2         2025-01-01      2028-01-01      VNU,NZ6   \n",
       "1                   2         2025-03-15      2027-01-01      ZJA,0D3   \n",
       "2                   2         2025-03-15      2028-01-01      ZNG,MAP   \n",
       "3                   1         2025-01-01      2028-01-01      RPP,M40   \n",
       "4                   2         2025-07-30      2028-01-01      R8U,X46   \n",
       "...               ...                ...             ...          ...   \n",
       "9995                3         2025-03-15      2028-01-01      M81,8WN   \n",
       "9996                2         2025-01-01      2026-01-01      0UM,L4B   \n",
       "9997                2         2025-01-01      2026-01-01      GO4,EZE   \n",
       "9998                1         2025-07-30      2028-01-01      0QB,U55   \n",
       "9999                1         2025-01-01      2027-01-01      C5R,TZN   \n",
       "\n",
       "     Color/Size Variations  Product Ratings  \n",
       "0              Green/Large                2  \n",
       "1                Red/Small                2  \n",
       "2                Red/Small                1  \n",
       "3              Green/Large                1  \n",
       "4              Blue/Medium                4  \n",
       "...                    ...              ...  \n",
       "9995           Blue/Medium                1  \n",
       "9996             Red/Small                4  \n",
       "9997             Red/Small                1  \n",
       "9998             Red/Small                1  \n",
       "9999           Blue/Medium                1  \n",
       "\n",
       "[10000 rows x 11 columns]"
      ]
     },
     "execution_count": 33,
     "metadata": {},
     "output_type": "execute_result"
    }
   ],
   "source": [
    "df"
   ]
  },
  {
   "cell_type": "code",
   "execution_count": null,
   "id": "3bb82584-9d59-4d61-928d-c45b5f6a193b",
   "metadata": {},
   "outputs": [],
   "source": []
  },
  {
   "cell_type": "code",
   "execution_count": 21,
   "id": "15134861-fdda-4015-8ef3-db93143d81f1",
   "metadata": {},
   "outputs": [
    {
     "data": {
      "text/plain": [
       "0"
      ]
     },
     "execution_count": 21,
     "metadata": {},
     "output_type": "execute_result"
    }
   ],
   "source": [
    "df.duplicated().sum()"
   ]
  },
  {
   "cell_type": "code",
   "execution_count": null,
   "id": "b3f98fa2-870f-472d-a652-c272e500e224",
   "metadata": {},
   "outputs": [],
   "source": []
  },
  {
   "cell_type": "code",
   "execution_count": 23,
   "id": "2b8a63bd-2899-41de-9b72-badfc3fdf40d",
   "metadata": {},
   "outputs": [
    {
     "data": {
      "text/plain": [
       "Product ID               0\n",
       "Product Name             0\n",
       "Product Category         0\n",
       "Price                    0\n",
       "Stock Quantity           0\n",
       "Warranty Period          0\n",
       "Manufacturing Date       0\n",
       "Expiration Date          0\n",
       "Product Tags             0\n",
       "Color/Size Variations    0\n",
       "Product Ratings          0\n",
       "dtype: int64"
      ]
     },
     "execution_count": 23,
     "metadata": {},
     "output_type": "execute_result"
    }
   ],
   "source": [
    "df.isnull().sum() "
   ]
  },
  {
   "cell_type": "code",
   "execution_count": null,
   "id": "592b8421-40d8-4721-b821-e5f55895c606",
   "metadata": {},
   "outputs": [],
   "source": []
  },
  {
   "cell_type": "markdown",
   "id": "8a0a801f-094d-4e49-9255-f69396782ff6",
   "metadata": {},
   "source": [
    "# Global Product Inventory EDA"
   ]
  },
  {
   "cell_type": "code",
   "execution_count": null,
   "id": "042bf0a8-12ba-4d8d-ae21-caaee08bbcb2",
   "metadata": {},
   "outputs": [],
   "source": []
  },
  {
   "cell_type": "markdown",
   "id": "2975c050-00e2-4f52-ad71-8cd1f74100cb",
   "metadata": {},
   "source": [
    "# Which products are at risk of stock depletion soon?"
   ]
  },
  {
   "cell_type": "code",
   "execution_count": 43,
   "id": "e65bd832-61a7-48fd-96ab-55cf5f584a99",
   "metadata": {},
   "outputs": [
    {
     "name": "stdout",
     "output_type": "stream",
     "text": [
      "Products at risk of stock depletion soon:\n",
      "     Product ID Product Name  Stock Quantity\n",
      "65     9Y137KWW       Laptop               2\n",
      "159    XK9BCTZ6       Laptop               1\n",
      "175    VY3371EV       Laptop               2\n",
      "212    8D2OO0QB   Smartphone               1\n",
      "232    LMDVKH9K   Headphones               1\n",
      "...         ...          ...             ...\n",
      "9455   5X0WALYB   Headphones               1\n",
      "9631   7HL3Z91Z       Laptop               1\n",
      "9744   VW2WBS6N       Laptop               2\n",
      "9839   HK97ADGD      Monitor               2\n",
      "9956   AUP5BLIW       Laptop               2\n",
      "\n",
      "[180 rows x 3 columns]\n"
     ]
    }
   ],
   "source": [
    "at_risk_stock = df[df['Stock Quantity'] < 3]\n",
    "print(\"Products at risk of stock depletion soon:\")\n",
    "print(at_risk_stock[['Product ID', 'Product Name', 'Stock Quantity']]) "
   ]
  },
  {
   "cell_type": "code",
   "execution_count": null,
   "id": "8a8d6051-f29a-4b99-98a1-7fdec99ad2fc",
   "metadata": {},
   "outputs": [],
   "source": []
  },
  {
   "cell_type": "markdown",
   "id": "94355214-cd93-4e03-b788-842a33fb8ce9",
   "metadata": {},
   "source": [
    "# What’s the average shelf life per product category?\n",
    "Shelf life is calculated as the difference between 'Expiration Date' and 'Manufacturing Date'"
   ]
  },
  {
   "cell_type": "code",
   "execution_count": 45,
   "id": "4ba9c3c6-5704-4a06-a14d-539f904753fb",
   "metadata": {},
   "outputs": [
    {
     "name": "stdout",
     "output_type": "stream",
     "text": [
      "Average shelf life per product category:\n",
      "Product Category\n",
      "Clothing           643.462137\n",
      "Electronics        638.030646\n",
      "Home Appliances    635.659491\n",
      "Name: Shelf Life, dtype: float64\n"
     ]
    }
   ],
   "source": [
    "df['Shelf Life'] = (df['Expiration Date'] - df['Manufacturing Date']).dt.days\n",
    "avg_shelf_life_per_category = df.groupby('Product Category')['Shelf Life'].mean()\n",
    "print(\"Average shelf life per product category:\")\n",
    "print(avg_shelf_life_per_category) "
   ]
  },
  {
   "cell_type": "code",
   "execution_count": null,
   "id": "f7a7f7e6-b02c-4049-b6b3-49a5819cb2b5",
   "metadata": {},
   "outputs": [],
   "source": []
  },
  {
   "cell_type": "markdown",
   "id": "676511e3-4d51-4133-8551-7ec27b2b5a61",
   "metadata": {},
   "source": [
    "# Which products are nearing expiration?\n",
    "(within the next 12 months)  "
   ]
  },
  {
   "cell_type": "code",
   "execution_count": 58,
   "id": "11093839-aaf1-4351-a47e-dd5af1668b3b",
   "metadata": {},
   "outputs": [
    {
     "name": "stdout",
     "output_type": "stream",
     "text": [
      "Products nearing expiration within the next 12 months:\n",
      "     Product ID Product Name Expiration Date\n",
      "5      27R9M103   Smartphone      2026-01-01\n",
      "10     SX7HALUU      Monitor      2026-01-01\n",
      "11     1AOXE5QW   Headphones      2026-01-01\n",
      "13     X2D1GWO5      Monitor      2026-01-01\n",
      "15     EPKS7ECS   Smartphone      2026-01-01\n",
      "...         ...          ...             ...\n",
      "9986   SPRX137X   Smartphone      2026-01-01\n",
      "9988   Z6D6TAKQ   Headphones      2026-01-01\n",
      "9993   WO0LMJ4X   Smartphone      2026-01-01\n",
      "9996   L1HL7437       Laptop      2026-01-01\n",
      "9997   FD57S4E1       Laptop      2026-01-01\n",
      "\n",
      "[3320 rows x 3 columns]\n"
     ]
    }
   ],
   "source": [
    "twelve_months = current_date + pd.DateOffset(months=12)\n",
    "nearing_expiration = df[df['Expiration Date'] <= twelve_months]\n",
    "print(\"Products nearing expiration within the next 12 months:\")\n",
    "print(nearing_expiration[['Product ID', 'Product Name', 'Expiration Date']]) \n"
   ]
  },
  {
   "cell_type": "code",
   "execution_count": null,
   "id": "8125d29c-75e8-4b73-a681-b5fd44109278",
   "metadata": {},
   "outputs": [],
   "source": []
  },
  {
   "cell_type": "markdown",
   "id": "4e97edda-1690-4c54-89ff-6da8d7290ee3",
   "metadata": {},
   "source": [
    "# Are highly rated products well-stocked?"
   ]
  },
  {
   "cell_type": "code",
   "execution_count": 60,
   "id": "a9bc525a-af3c-4edb-bac6-65490f0b0612",
   "metadata": {},
   "outputs": [
    {
     "name": "stdout",
     "output_type": "stream",
     "text": [
      "Highly rated products that are well-stocked (Stock Quantity > 10):\n",
      "     Product ID Product Name  Product Ratings  Stock Quantity\n",
      "4      728GCZFU       Laptop                4              32\n",
      "5      27R9M103   Smartphone                5              98\n",
      "8      T4F2EW7G      Monitor                5             100\n",
      "9      GL199BEL   Smartphone                4              47\n",
      "12     KOXR70B4   Smartphone                4              61\n",
      "...         ...          ...              ...             ...\n",
      "9984   OY2KZB29   Headphones                5              50\n",
      "9985   IDEEL1SU   Headphones                5              78\n",
      "9990   8XCCMFU9   Smartphone                4              36\n",
      "9991   Z4G51Z0O   Smartphone                4              38\n",
      "9996   L1HL7437       Laptop                4              19\n",
      "\n",
      "[3638 rows x 4 columns]\n"
     ]
    }
   ],
   "source": [
    "highly_rated = df[df['Product Ratings'] >= 4]\n",
    "well_stocked_highly_rated = highly_rated[highly_rated['Stock Quantity'] > 10]\n",
    "print(f\"Highly rated products that are well-stocked (Stock Quantity > 10):\")\n",
    "print(well_stocked_highly_rated[['Product ID', 'Product Name', 'Product Ratings', 'Stock Quantity']]) "
   ]
  },
  {
   "cell_type": "code",
   "execution_count": null,
   "id": "3d8ae026-f698-4cd1-ab84-c5fe387dfd14",
   "metadata": {},
   "outputs": [],
   "source": []
  },
  {
   "cell_type": "markdown",
   "id": "b3aa06da-0c0c-481e-a24f-5ed8a765e9b5",
   "metadata": {},
   "source": [
    "# What pricing trends can be observed across different product categories?\n",
    "average price per product category"
   ]
  },
  {
   "cell_type": "code",
   "execution_count": 63,
   "id": "5147775b-ef3b-4773-b317-c45daf196494",
   "metadata": {},
   "outputs": [
    {
     "data": {
      "image/png": "[encoded data removed]",
      "text/plain": [
       "<Figure size 1000x600 with 1 Axes>"
      ]
     },
     "metadata": {},
     "output_type": "display_data"
    }
   ],
   "source": [
    "avg_price_per_category = df.groupby('Product Category')['Price'].mean()\n",
    "plt.figure(figsize=(10, 6))\n",
    "avg_price_per_category.plot(kind='bar')\n",
    "plt.title('Average Price per Product Category')\n",
    "plt.ylabel('Average Price')\n",
    "plt.xlabel('Product Category')\n",
    "plt.xticks(rotation=45, ha='right')\n",
    "plt.show() "
   ]
  },
  {
   "cell_type": "code",
   "execution_count": null,
   "id": "1e344d00-9377-4b65-a2fc-fe58f738264f",
   "metadata": {},
   "outputs": [],
   "source": []
  },
  {
   "cell_type": "markdown",
   "id": "a41b48fa-f4b5-49e5-aa7b-cebcbb77ed43",
   "metadata": {},
   "source": [
    "# Are there significant price fluctuations based on size, color, or rating?\n",
    "1. Price distribution by size/color "
   ]
  },
  {
   "cell_type": "code",
   "execution_count": 66,
   "id": "a39d3f7e-63b3-4984-9c46-cfa2dc3cc7f7",
   "metadata": {},
   "outputs": [
    {
     "data": {
      "image/png": "[encoded data removed]",
      "text/plain": [
       "<Figure size 1200x800 with 1 Axes>"
      ]
     },
     "metadata": {},
     "output_type": "display_data"
    }
   ],
   "source": [
    "df['Color/Size Variations'] = df['Color/Size Variations'].astype(str)  # Make sure it's treated as a categorical variable\n",
    "plt.figure(figsize=(12, 8))\n",
    "sns.boxplot(x='Color/Size Variations', y='Price', data=df)\n",
    "plt.title('Price Distribution by Size/Color Variations')\n",
    "plt.xticks(rotation=90)\n",
    "plt.show() "
   ]
  },
  {
   "cell_type": "markdown",
   "id": "60c00ff9-ff94-40bc-9e0b-924d29fbdce6",
   "metadata": {},
   "source": [
    "# Correlating rating and price for fluctuations"
   ]
  },
  {
   "cell_type": "code",
   "execution_count": 69,
   "id": "019d7afb-6048-4286-bb44-d84dbfa65ffd",
   "metadata": {},
   "outputs": [
    {
     "data": {
      "image/png": "[encoded data removed]",
      "text/plain": [
       "<Figure size 800x600 with 1 Axes>"
      ]
     },
     "metadata": {},
     "output_type": "display_data"
    }
   ],
   "source": [
    "plt.figure(figsize=(8, 6))\n",
    "sns.scatterplot(x='Product Ratings', y='Price', data=df)\n",
    "plt.title('Price vs. Rating')\n",
    "plt.xlabel('Product Rating')\n",
    "plt.ylabel('Price')\n",
    "plt.show() "
   ]
  },
  {
   "cell_type": "code",
   "execution_count": null,
   "id": "ab7d8fe1-0b10-4823-8d58-990d309be1cd",
   "metadata": {},
   "outputs": [],
   "source": []
  },
  {
   "cell_type": "markdown",
   "id": "6fe8527f-0e75-46fc-b23a-d7309f905589",
   "metadata": {},
   "source": [
    "# Which product categories have the highest and lowest average ratings?"
   ]
  },
  {
   "cell_type": "code",
   "execution_count": 73,
   "id": "5b5cd551-eaf9-4615-89ee-13a7f6a40226",
   "metadata": {},
   "outputs": [
    {
     "name": "stdout",
     "output_type": "stream",
     "text": [
      "Highest rated category: Clothing with an average rating of 3.0179586950014965\n",
      "Lowest rated category: Electronics with an average rating of 2.982148170187444\n"
     ]
    }
   ],
   "source": [
    "avg_ratings_per_category = df.groupby('Product Category')['Product Ratings'].mean()\n",
    "highest_rated_category = avg_ratings_per_category.idxmax()\n",
    "lowest_rated_category = avg_ratings_per_category.idxmin()\n",
    "print(f\"Highest rated category: {highest_rated_category} with an average rating of {avg_ratings_per_category.max()}\")\n",
    "print(f\"Lowest rated category: {lowest_rated_category} with an average rating of {avg_ratings_per_category.min()}\")"
   ]
  },
  {
   "cell_type": "code",
   "execution_count": null,
   "id": "828a70bc-cace-4adb-ad51-985ae0986f0d",
   "metadata": {},
   "outputs": [],
   "source": []
  },
  {
   "cell_type": "markdown",
   "id": "286832ae-ef84-4907-bc98-6de395596421",
   "metadata": {},
   "source": [
    " # Most common tags? "
   ]
  },
  {
   "cell_type": "code",
   "execution_count": 76,
   "id": "a7d9f246-95bd-41f3-8687-6a1b9fcac3b9",
   "metadata": {},
   "outputs": [
    {
     "name": "stdout",
     "output_type": "stream",
     "text": [
      "Most common tags:\n",
      "Product Tags\n",
      "DJF    6\n",
      "O6L    5\n",
      "WEC    5\n",
      "CYV    4\n",
      "XP6    4\n",
      "Name: count, dtype: int64\n"
     ]
    }
   ],
   "source": [
    "df['Product Tags'] = df['Product Tags'].str.split(',')  # Assuming tags are separated by commas\n",
    "tags_flat = df['Product Tags'].explode().value_counts()\n",
    "print(\"Most common tags:\")\n",
    "print(tags_flat.head())"
   ]
  },
  {
   "cell_type": "code",
   "execution_count": null,
   "id": "e894407c-43ef-4bbe-9bef-55ff38225c42",
   "metadata": {},
   "outputs": [],
   "source": []
  },
  {
   "cell_type": "markdown",
   "id": "6036449e-b14c-4bc8-a7b1-c7646818f452",
   "metadata": {},
   "source": [
    "# Average customer rating per product category?"
   ]
  },
  {
   "cell_type": "code",
   "execution_count": 95,
   "id": "56fc5781-3d88-41ae-9ce2-9481e159ccab",
   "metadata": {},
   "outputs": [
    {
     "name": "stdout",
     "output_type": "stream",
     "text": [
      "Average customer rating per product category:\n",
      "Product Category\n",
      "Clothing           3.017959\n",
      "Electronics        2.982148\n",
      "Home Appliances    3.014251\n",
      "Name: Product Ratings, dtype: float64\n"
     ]
    }
   ],
   "source": [
    "avg_customer_rating_per_category = df.groupby('Product Category')['Product Ratings'].mean()\n",
    "print(\"Average customer rating per product category:\")\n",
    "print(avg_customer_rating_per_category) "
   ]
  },
  {
   "cell_type": "code",
   "execution_count": null,
   "id": "159b257e-4067-46cd-8b03-e5f0aac61dcc",
   "metadata": {},
   "outputs": [],
   "source": []
  },
  {
   "cell_type": "markdown",
   "id": "62197e8c-f13e-42a7-9379-12289905f86b",
   "metadata": {},
   "source": [
    "# Which products have the most variations (color/size)"
   ]
  },
  {
   "cell_type": "code",
   "execution_count": 86,
   "id": "e7236568-edd4-45ba-b353-33d7ca2a2fb0",
   "metadata": {},
   "outputs": [
    {
     "name": "stdout",
     "output_type": "stream",
     "text": [
      "Products with the most variations (color/size):\n",
      "     Product ID Product Name  Variation Count  Product Ratings\n",
      "0      93TGNAY7       Laptop                1                2\n",
      "1      TYYZ5AV7   Smartphone                1                2\n",
      "2      5C94FGTQ   Headphones                1                1\n",
      "3      XBHKYPQB      Monitor                1                1\n",
      "4      728GCZFU       Laptop                1                4\n",
      "...         ...          ...              ...              ...\n",
      "9995   J29B6RDI   Headphones                1                1\n",
      "9996   L1HL7437       Laptop                1                4\n",
      "9997   FD57S4E1       Laptop                1                1\n",
      "9998   RPYLOB1M   Headphones                1                1\n",
      "9999   3JWTGTOM       Laptop                1                1\n",
      "\n",
      "[10000 rows x 4 columns]\n"
     ]
    }
   ],
   "source": [
    "df['Variation Count'] = df['Color/Size Variations'].apply(lambda x: len(x.split(',')))\n",
    "most_variations = df[df['Variation Count'] == df['Variation Count'].max()]\n",
    "print(\"Products with the most variations (color/size):\")\n",
    "print(most_variations[['Product ID', 'Product Name', 'Variation Count', 'Product Ratings']]) \n"
   ]
  },
  {
   "cell_type": "code",
   "execution_count": null,
   "id": "1ab5bf11-282a-4362-b931-38e3cb9f82f9",
   "metadata": {},
   "outputs": [],
   "source": []
  },
  {
   "cell_type": "markdown",
   "id": "c51cc7eb-ee54-4a2a-9cc0-9d4c5e2f183d",
   "metadata": {},
   "source": [
    "# Analyzing the impact of variations on ratings "
   ]
  },
  {
   "cell_type": "code",
   "execution_count": 89,
   "id": "819b87ac-a1ca-49b3-a442-8fe424ae9455",
   "metadata": {},
   "outputs": [
    {
     "data": {
      "image/png": "[encoded data removed]",
      "text/plain": [
       "<Figure size 1000x600 with 1 Axes>"
      ]
     },
     "metadata": {},
     "output_type": "display_data"
    }
   ],
   "source": [
    "\n",
    "plt.figure(figsize=(10, 6))\n",
    "sns.boxplot(x='Variation Count', y='Product Ratings', data=df)\n",
    "plt.title('Impact of Color/Size Variations on Customer Ratings')\n",
    "plt.show()"
   ]
  }
 ],
 "metadata": {
  "kernelspec": {
   "display_name": "Python [conda env:base] *",
   "language": "python",
   "name": "conda-base-py"
  },
  "language_info": {
   "codemirror_mode": {
    "name": "ipython",
    "version": 3
   },
   "file_extension": ".py",
   "mimetype": "text/x-python",
   "name": "python",
   "nbconvert_exporter": "python",
   "pygments_lexer": "ipython3",
   "version": "3.12.7"
  }
 },
 "nbformat": 4,
 "nbformat_minor": 5
}
